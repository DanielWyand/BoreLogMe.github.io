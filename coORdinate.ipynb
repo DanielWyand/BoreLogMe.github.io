{
 "cells": [
  {
   "cell_type": "code",
   "execution_count": 2,
   "metadata": {},
   "outputs": [],
   "source": [
    "\n",
    "import math\n",
    " \n",
    "def LBH2XYZ(L:float, B:float, H:float, coorSys:str):\n",
    "    \"\"\"\n",
    "    经纬高转地心XYZ\n",
    "    :param L: 经度,单位°\n",
    "    :param B: 纬度（地理纬度），单位°\n",
    "    :param H: 高度，单位m\n",
    "    :param coorSys 坐标系选择，参数可以为\"wgs84\"、\"cgcs2000\"，\n",
    "    两种坐标系所采取的椭圆半长轴均为6378137m，扁率不同，\n",
    "    wgs84的扁率为1/298.257223564，半短轴为6356752.314245251，偏心率e为0.08181919084248535\n",
    "    cgcs2000的扁率为1/298.257222101，半短轴为6356752.314140356，偏心率e为0.08181919104281517\n",
    "    :return: 地心XYZ 单位m\n",
    "    \"\"\"\n",
    "    L = L/180 * math.pi   # 先转为弧度\n",
    "    B = B/180 * math.pi   # 先转为弧度\n",
    " \n",
    "    a = 6378137   # 半长轴\n",
    "    if coorSys == \"wgs84\":\n",
    "        e = 0.08181919084248535\n",
    "    elif coorSys == \"cgcs2000\":\n",
    "        e = 0.08181919104281517\n",
    "    N = a/math.sqrt(1 - math.pow(e, 2) * math.pow(math.sin(B), 2))\n",
    " \n",
    "    X = (N + H) * math.cos(B) * math.cos(L)\n",
    "    Y = (N + H) * math.cos(B) * math.sin(L)\n",
    "    Z = (N * (1 - math.pow(e, 2)) + H) * math.sin(B)\n",
    " \n",
    "    return X, Y, Z\n",
    " \n",
    "def XYZ2LBH(X:float, Y:float, Z:float, coorSys:str):\n",
    "    \"\"\"\n",
    "    地心非惯性坐标系（地固系）XYZ转换为LBH\n",
    "    :param X: X轴刻度值，单位m\n",
    "    :param Y: Y轴刻度值，单位m\n",
    "    :param Z: Z轴刻度值，单位m\n",
    "    :param coorSys: 坐标系选择，参数可以为\"wgs84\"、\"cgcs2000\"，\n",
    "    :return: LBH  单位°、m\n",
    "    \"\"\"\n",
    " \n",
    "    a = 6378137  # 半长轴\n",
    "    if coorSys == \"wgs84\":\n",
    "        e = 0.08181919084248535\n",
    "    elif coorSys == \"cgcs2000\":\n",
    "        e = 0.08181919104281517\n",
    " \n",
    "    L = math.atan(Y / X) / math.pi * 180\n",
    " \n",
    "    tB = 0\n",
    "    N = a / math.sqrt(1 - math.pow(e, 2) * math.pow(math.sin(tB), 2))\n",
    "    B = math.atan((Z + N * math.pow(e, 2) * math.sin(tB)) / math.sqrt(X*X + Y*Y))\n",
    "    while B - tB > 0.00000001:\n",
    "        tB = B\n",
    "        N = a / math.sqrt(1 - math.pow(e, 2) * math.pow(math.sin(tB), 2))\n",
    "        B = math.atan((Z + N * math.pow(e, 2) * math.sin(tB)) / math.sqrt(X * X + Y * Y))\n",
    " \n",
    "    H = Z/math.sin(B) - N * (1 - e*e)\n",
    "    B = B/math.pi * 180\n",
    " \n",
    "    return L, B, H\n"
   ]
  },
  {
   "cell_type": "code",
   "execution_count": 4,
   "metadata": {},
   "outputs": [],
   "source": [
    "L, B, H = XYZ2LBH(2511785.54, 558591.27, 1, \"cgcs2000\")\n",
    "\n"
   ]
  }
 ],
 "metadata": {
  "interpreter": {
   "hash": "b9db25bb31ea9a644276623e3d01e5e0eb3081e1bc9ded090f6f2d3835aad745"
  },
  "kernelspec": {
   "display_name": "Python 3.7.3 32-bit",
   "language": "python",
   "name": "python3"
  },
  "language_info": {
   "codemirror_mode": {
    "name": "ipython",
    "version": 3
   },
   "file_extension": ".py",
   "mimetype": "text/x-python",
   "name": "python",
   "nbconvert_exporter": "python",
   "pygments_lexer": "ipython3",
   "version": "3.7.3"
  },
  "orig_nbformat": 4
 },
 "nbformat": 4,
 "nbformat_minor": 2
}
